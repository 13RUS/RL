{
 "cells": [
  {
   "cell_type": "code",
   "execution_count": 1,
   "metadata": {},
   "outputs": [],
   "source": [
    "import torch"
   ]
  },
  {
   "cell_type": "code",
   "execution_count": 5,
   "metadata": {},
   "outputs": [],
   "source": [
    "T = torch.tensor ([[0.4,0.6], \n",
    "                   [0.8,0.2]])"
   ]
  },
  {
   "cell_type": "code",
   "execution_count": 6,
   "metadata": {},
   "outputs": [],
   "source": [
    "T_2 = torch.matrix_power(T, 2)\n",
    "T_5 = torch.matrix_power(T, 5)\n",
    "T_10 = torch.matrix_power(T, 10)\n",
    "T_15 = torch.matrix_power(T, 15)\n",
    "T_20 = torch.matrix_power(T, 20)"
   ]
  },
  {
   "cell_type": "code",
   "execution_count": 7,
   "metadata": {},
   "outputs": [
    {
     "name": "stdout",
     "output_type": "stream",
     "text": [
      "Probability of transition after 10 steps:\n",
      "tensor([[0.5715, 0.4285],\n",
      "        [0.5714, 0.4286]])\n"
     ]
    }
   ],
   "source": [
    "print (\"Probability of transition after 10 steps:\\n{}\".format(T_10))"
   ]
  },
  {
   "cell_type": "code",
   "execution_count": 13,
   "metadata": {},
   "outputs": [],
   "source": [
    "v = torch.tensor([[0.7, 0.3]])"
   ]
  },
  {
   "cell_type": "code",
   "execution_count": 14,
   "metadata": {},
   "outputs": [],
   "source": [
    "v_1 = torch.mm(v, T)\n",
    "v_2 = torch.mm(v, T_2)\n",
    "v_5 = torch.mm(v, T_5)\n",
    "v_10 = torch.mm(v, T_10)\n",
    "v_15 = torch.mm(v, T_15)\n",
    "v_20 = torch.mm(v, T_20)"
   ]
  },
  {
   "cell_type": "code",
   "execution_count": 18,
   "metadata": {},
   "outputs": [
    {
     "name": "stdout",
     "output_type": "stream",
     "text": [
      "Distribution of states after 10 steps:\n",
      "tensor([[0.5714, 0.4286]])\n"
     ]
    }
   ],
   "source": [
    "print (\"Distribution of states after 10 steps:\\n{}\".format(v_10))"
   ]
  },
  {
   "cell_type": "code",
   "execution_count": null,
   "metadata": {},
   "outputs": [],
   "source": []
  }
 ],
 "metadata": {
  "kernelspec": {
   "display_name": "Python 3",
   "language": "python",
   "name": "python3"
  },
  "language_info": {
   "codemirror_mode": {
    "name": "ipython",
    "version": 3
   },
   "file_extension": ".py",
   "mimetype": "text/x-python",
   "name": "python",
   "nbconvert_exporter": "python",
   "pygments_lexer": "ipython3",
   "version": "3.8.5"
  }
 },
 "nbformat": 4,
 "nbformat_minor": 4
}
