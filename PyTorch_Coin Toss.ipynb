{
 "cells": [
  {
   "cell_type": "code",
   "execution_count": 1,
   "metadata": {},
   "outputs": [],
   "source": [
    "import torch"
   ]
  },
  {
   "cell_type": "code",
   "execution_count": 2,
   "metadata": {},
   "outputs": [],
   "source": [
    "gamma = 1\n",
    "threshold = 1e-10"
   ]
  },
  {
   "cell_type": "code",
   "execution_count": 4,
   "metadata": {},
   "outputs": [],
   "source": [
    "capital_max = 100\n",
    "n_state = capital_max + 1"
   ]
  },
  {
   "cell_type": "code",
   "execution_count": 6,
   "metadata": {},
   "outputs": [],
   "source": [
    "rewards = torch.zeros(n_state)\n",
    "rewards[-1] = 1"
   ]
  },
  {
   "cell_type": "code",
   "execution_count": 9,
   "metadata": {},
   "outputs": [],
   "source": [
    "head_prob = 0.4"
   ]
  },
  {
   "cell_type": "code",
   "execution_count": 10,
   "metadata": {},
   "outputs": [],
   "source": [
    "env = {'capital_max':capital_max,\n",
    "      'head_prob': head_prob,\n",
    "      'rewards': rewards,\n",
    "      'n_state': n_state}"
   ]
  },
  {
   "cell_type": "code",
   "execution_count": 19,
   "metadata": {},
   "outputs": [],
   "source": [
    "def value_iteration(env, gamma, threshold):\n",
    "    head_prob = env['head_prob']\n",
    "    n_state = env['n_state']\n",
    "    capital_max = env['capital_max']\n",
    "    V = torch.zeros(n_state)\n",
    "    \n",
    "    while True:\n",
    "        V_temp = torch.zeros(n_state)\n",
    "        for state in range (1, capital_max):\n",
    "            v_actions = torch.zeros(min(state, capital_max-state) + 1)\n",
    "            \n",
    "            for action in range (1, min(state, capital_max-state)+1):\n",
    "                v_actions[action] += head_prob * (rewards[state+action] + gamma * V[state+action])\n",
    "                v_actions[action] += (1-head_prob) * (rewards[state-action] + gamma * V[state-action])\n",
    "            V_temp[state] = torch.max(v_actions)\n",
    "        max_delta = torch.max(torch.abs(V-V_temp))\n",
    "        \n",
    "        V = V_temp.clone()\n",
    "        \n",
    "        if max_delta <= threshold:\n",
    "            break\n",
    "    return V"
   ]
  },
  {
   "cell_type": "code",
   "execution_count": 24,
   "metadata": {},
   "outputs": [],
   "source": [
    "def extract_optimal_policy(env, V_optimal, gamma):\n",
    "    head_prob = env['head_prob']\n",
    "    n_state = env['n_state']\n",
    "    capital_max = env['capital_max']\n",
    "    optimal_policy = torch.zeros(capital_max).int()\n",
    "    \n",
    "    for state in range (1, capital_max):\n",
    "        v_actions = torch.zeros(n_state)\n",
    "        for action in range (1, min(state, capital_max-state)+1):\n",
    "            v_actions[action] += head_prob * (rewards[state+action] + gamma * V_optimal[state+action])\n",
    "            v_actions[action] += (1-head_prob) * (rewards[state-action] + gamma * V_optimal[state-action])\n",
    "        optimal_policy[state] = torch.argmax(v_actions)\n",
    "    return optimal_policy"
   ]
  },
  {
   "cell_type": "code",
   "execution_count": 16,
   "metadata": {},
   "outputs": [],
   "source": [
    "import time\n"
   ]
  },
  {
   "cell_type": "code",
   "execution_count": 27,
   "metadata": {},
   "outputs": [
    {
     "name": "stdout",
     "output_type": "stream",
     "text": [
      "Total time is: 2.580sec\n"
     ]
    }
   ],
   "source": [
    "start_time = time.time()\n",
    "V_optimal = value_iteration(env, gamma, threshold)\n",
    "optimal_policy = extract_optimal_policy (env, V_optimal, gamma)\n",
    "print ('Total time is: {:.3f}sec'.format(time.time() - start_time))"
   ]
  },
  {
   "cell_type": "code",
   "execution_count": 31,
   "metadata": {},
   "outputs": [
    {
     "name": "stdout",
     "output_type": "stream",
     "text": [
      "Optimal Value:\n",
      "tensor([0.0000, 0.0021, 0.0052, 0.0092, 0.0129, 0.0174, 0.0231, 0.0278, 0.0323,\n",
      "        0.0377, 0.0435, 0.0504, 0.0577, 0.0652, 0.0695, 0.0744, 0.0807, 0.0866,\n",
      "        0.0942, 0.1031, 0.1087, 0.1160, 0.1259, 0.1336, 0.1441, 0.1600, 0.1631,\n",
      "        0.1677, 0.1738, 0.1794, 0.1861, 0.1946, 0.2017, 0.2084, 0.2165, 0.2252,\n",
      "        0.2355, 0.2465, 0.2579, 0.2643, 0.2716, 0.2810, 0.2899, 0.3013, 0.3147,\n",
      "        0.3230, 0.3339, 0.3488, 0.3604, 0.3762, 0.4000, 0.4031, 0.4077, 0.4138,\n",
      "        0.4194, 0.4261, 0.4346, 0.4417, 0.4484, 0.4565, 0.4652, 0.4755, 0.4865,\n",
      "        0.4979, 0.5043, 0.5116, 0.5210, 0.5299, 0.5413, 0.5547, 0.5630, 0.5740,\n",
      "        0.5888, 0.6004, 0.6162, 0.6400, 0.6446, 0.6516, 0.6608, 0.6690, 0.6791,\n",
      "        0.6919, 0.7026, 0.7126, 0.7248, 0.7378, 0.7533, 0.7697, 0.7868, 0.7965,\n",
      "        0.8075, 0.8215, 0.8349, 0.8520, 0.8721, 0.8845, 0.9009, 0.9232, 0.9406,\n",
      "        0.9643, 0.0000])\n"
     ]
    }
   ],
   "source": [
    "print ('Optimal Value:\\n{}'.format(V_optimal))"
   ]
  },
  {
   "cell_type": "code",
   "execution_count": 25,
   "metadata": {},
   "outputs": [],
   "source": [
    "optimal_policy = extract_optimal_policy (env, V_optimal, gamma)"
   ]
  },
  {
   "cell_type": "code",
   "execution_count": 33,
   "metadata": {},
   "outputs": [
    {
     "name": "stdout",
     "output_type": "stream",
     "text": [
      "Optimal Policy:\n",
      "tensor([ 0,  1,  2,  3,  4,  5,  6,  7,  8,  9, 10, 11, 12, 13, 14, 15,  9, 17,\n",
      "        18,  6,  5, 21,  3,  2,  1, 25,  1,  2,  3, 29,  5,  6,  7,  8,  9, 35,\n",
      "        36, 12, 12, 11, 10,  9,  8,  7, 44,  5,  4,  3,  2,  1, 50,  1,  2,  3,\n",
      "         4,  5,  6,  7,  8,  9, 10, 11, 12, 12, 11, 10,  9,  8,  7,  6,  5,  4,\n",
      "         3,  2,  1, 25,  1,  2,  3, 21,  5, 19,  7,  8, 16, 15, 14, 12, 12, 11,\n",
      "        10,  9,  8,  7,  6,  5,  4,  3,  2,  1], dtype=torch.int32)\n"
     ]
    }
   ],
   "source": [
    "print ('Optimal Policy:\\n{}'.format(optimal_policy))"
   ]
  },
  {
   "cell_type": "code",
   "execution_count": 34,
   "metadata": {},
   "outputs": [],
   "source": [
    "import matplotlib.pyplot as plt"
   ]
  },
  {
   "cell_type": "code",
   "execution_count": 35,
   "metadata": {},
   "outputs": [
    {
     "data": {
      "image/png": "[encoded data removed]",
      "text/plain": [
       "<Figure size 432x288 with 1 Axes>"
      ]
     },
     "metadata": {
      "needs_background": "light"
     },
     "output_type": "display_data"
    }
   ],
   "source": [
    "plt.plot(V_optimal[:100].numpy())\n",
    "plt.title('Optimal value')\n",
    "plt.xlabel('Capital')\n",
    "plt.ylabel('Value')\n",
    "plt.show()\n"
   ]
  },
  {
   "cell_type": "code",
   "execution_count": 67,
   "metadata": {},
   "outputs": [],
   "source": [
    "def policy_evaluation(env, policy, gamma, threshold):\n",
    "    head_prob = env['head_prob']\n",
    "    n_state = env['n_state']\n",
    "    capital_max = env['capital_max']\n",
    "    V = torch.zeros(n_state)\n",
    "    \n",
    "    while True:\n",
    "        V_temp = torch.zeros(n_state)\n",
    "        for state in range (1, capital_max):\n",
    "            action = policy[state].item()\n",
    "            V_temp[state] += head_prob * (rewards[state+action] + gamma * V[state+action])\n",
    "            V_temp[state] += (1-head_prob) * (rewards[state-action] + gamma * V[state-action])\n",
    "        \n",
    "        max_delta = torch.max(torch.abs(V-V_temp))\n",
    "        \n",
    "        V = V_temp.clone()\n",
    "        \n",
    "        if max_delta <= threshold:\n",
    "            break\n",
    "    return V"
   ]
  },
  {
   "cell_type": "code",
   "execution_count": 69,
   "metadata": {},
   "outputs": [],
   "source": [
    "def policy_improvement (env, V, gamma):\n",
    "    head_prob = env['head_prob']\n",
    "    n_state = env['n_state']\n",
    "    capital_max = env['capital_max']\n",
    "    policy = torch.zeros(n_state).int()\n",
    "    \n",
    "    for state in range (1, capital_max):\n",
    "            v_actions = torch.zeros(min(state, capital_max-state) + 1)\n",
    "            \n",
    "            for action in range (1, min(state, capital_max-state)+1):\n",
    "                v_actions[action] += head_prob * (rewards[state+action] + gamma * V[state+action])\n",
    "                v_actions[action] += (1-head_prob) * (rewards[state-action] + gamma * V[state-action])\n",
    "            policy[state] = torch.argmax(v_actions)\n",
    "    return policy"
   ]
  },
  {
   "cell_type": "code",
   "execution_count": 70,
   "metadata": {},
   "outputs": [],
   "source": [
    "def policy_iteration(env, gamma, threshold):\n",
    "    n_state = env['n_state']\n",
    "    policy = torch.zeros(n_state).int()\n",
    "    \n",
    "    while True:\n",
    "        V = policy_evaluation(env, policy, gamma, threshold)\n",
    "        policy_improved = policy_improvement(env, V, gamma)\n",
    "        if torch.equal(policy_improved, policy):\n",
    "            return V, policy_improved\n",
    "    \n",
    "        policy = policy_improved"
   ]
  },
  {
   "cell_type": "code",
   "execution_count": 71,
   "metadata": {},
   "outputs": [
    {
     "name": "stdout",
     "output_type": "stream",
     "text": [
      "Total time is: 2.471sec\n"
     ]
    }
   ],
   "source": [
    "start_time = time.time()\n",
    "V_optimal,optimal_policy = policy_iteration(env, gamma, threshold)\n",
    "\n",
    "print ('Total time is: {:.3f}sec'.format(time.time() - start_time))"
   ]
  },
  {
   "cell_type": "code",
   "execution_count": 72,
   "metadata": {},
   "outputs": [
    {
     "name": "stdout",
     "output_type": "stream",
     "text": [
      "Optimal Value:\n",
      "tensor([0.0000, 0.0021, 0.0052, 0.0092, 0.0129, 0.0174, 0.0231, 0.0278, 0.0323,\n",
      "        0.0377, 0.0435, 0.0504, 0.0577, 0.0652, 0.0695, 0.0744, 0.0807, 0.0866,\n",
      "        0.0942, 0.1031, 0.1087, 0.1160, 0.1259, 0.1336, 0.1441, 0.1600, 0.1631,\n",
      "        0.1677, 0.1738, 0.1794, 0.1861, 0.1946, 0.2017, 0.2084, 0.2165, 0.2252,\n",
      "        0.2355, 0.2465, 0.2579, 0.2643, 0.2716, 0.2810, 0.2899, 0.3013, 0.3147,\n",
      "        0.3230, 0.3339, 0.3488, 0.3604, 0.3762, 0.4000, 0.4031, 0.4077, 0.4138,\n",
      "        0.4194, 0.4261, 0.4346, 0.4417, 0.4484, 0.4565, 0.4652, 0.4755, 0.4865,\n",
      "        0.4979, 0.5043, 0.5116, 0.5210, 0.5299, 0.5413, 0.5547, 0.5630, 0.5740,\n",
      "        0.5888, 0.6004, 0.6162, 0.6400, 0.6446, 0.6516, 0.6608, 0.6690, 0.6791,\n",
      "        0.6919, 0.7026, 0.7126, 0.7248, 0.7378, 0.7533, 0.7697, 0.7868, 0.7965,\n",
      "        0.8075, 0.8215, 0.8349, 0.8520, 0.8721, 0.8845, 0.9009, 0.9232, 0.9406,\n",
      "        0.9643, 0.0000])\n",
      "Optimal Policy:\n",
      "tensor([ 0,  1,  2,  3,  4,  5,  6,  7,  8,  9, 10, 11, 12, 13, 14, 15,  9, 17,\n",
      "        18,  6,  5, 21,  3,  2,  1, 25,  1,  2,  3, 29,  5,  6,  7,  8,  9, 35,\n",
      "        36, 12, 12, 11, 10,  9,  8,  7, 44,  5,  4,  3,  2,  1, 50,  1,  2,  3,\n",
      "         4,  5,  6,  7,  8,  9, 10, 11, 12, 12, 11, 10,  9,  8,  7,  6,  5,  4,\n",
      "         3,  2,  1, 25,  1,  2,  3, 21,  5, 19,  7,  8, 16, 15, 14, 12, 12, 11,\n",
      "        10,  9,  8,  7,  6,  5,  4,  3,  2,  1,  0], dtype=torch.int32)\n"
     ]
    }
   ],
   "source": [
    "print ('Optimal Value:\\n{}'.format(V_optimal))\n",
    "print ('Optimal Policy:\\n{}'.format(optimal_policy))"
   ]
  },
  {
   "cell_type": "code",
   "execution_count": null,
   "metadata": {},
   "outputs": [],
   "source": []
  }
 ],
 "metadata": {
  "kernelspec": {
   "display_name": "Python 3",
   "language": "python",
   "name": "python3"
  },
  "language_info": {
   "codemirror_mode": {
    "name": "ipython",
    "version": 3
   },
   "file_extension": ".py",
   "mimetype": "text/x-python",
   "name": "python",
   "nbconvert_exporter": "python",
   "pygments_lexer": "ipython3",
   "version": "3.8.5"
  }
 },
 "nbformat": 4,
 "nbformat_minor": 4
}
