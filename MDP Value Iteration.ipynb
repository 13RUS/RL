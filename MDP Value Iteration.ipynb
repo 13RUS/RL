{
 "cells": [
  {
   "cell_type": "code",
   "execution_count": 1,
   "metadata": {},
   "outputs": [],
   "source": [
    "import torch\n",
    "import gym\n",
    "import numpy as np\n",
    "env = gym.make(\"FrozenLake-v1\")"
   ]
  },
  {
   "cell_type": "code",
   "execution_count": 2,
   "metadata": {},
   "outputs": [],
   "source": [
    "gamma = 0.99\n",
    "threshold = 0.0001"
   ]
  },
  {
   "cell_type": "code",
   "execution_count": 3,
   "metadata": {},
   "outputs": [],
   "source": [
    "def run_episode (env, policy):\n",
    "    state = env.reset()\n",
    "    total_reward = 0\n",
    "    is_done = False\n",
    "    while not is_done:\n",
    "        action = policy[state].item()\n",
    "        state, reward, is_done, info = env.step(action)\n",
    "        total_reward += reward\n",
    "        if is_done:\n",
    "            break\n",
    "    return total_reward"
   ]
  },
  {
   "cell_type": "code",
   "execution_count": 4,
   "metadata": {},
   "outputs": [],
   "source": [
    "def value_iteration (env, gamma, threshold):\n",
    "    n_state = env.observation_space.n\n",
    "    n_action = env.action_space.n\n",
    "    V = torch.zeros(n_state)\n",
    "   \n",
    "    while True:\n",
    "        V_temp = torch.empty(n_state)\n",
    "        \n",
    "        for state in range (n_state):\n",
    "            v_actions = torch.zeros(n_action)\n",
    "            \n",
    "            for action in range (n_action):\n",
    "                \n",
    "                for trans_prob, new_state, reward, _ in env.env.P[state][action]:\n",
    "                    v_actions[action] += trans_prob*(reward + gamma*V[new_state])\n",
    "            \n",
    "            V_temp[state] = torch.max(v_actions)    \n",
    "        max_delta = torch.max(torch.abs(V-V_temp))\n",
    "        V = V_temp.clone()\n",
    "\n",
    "        #V_his.append(V)\n",
    "        \n",
    "        if max_delta <= threshold:\n",
    "            break\n",
    "    \n",
    "    return V"
   ]
  },
  {
   "cell_type": "code",
   "execution_count": 5,
   "metadata": {},
   "outputs": [],
   "source": [
    "V_optimal = value_iteration(env,gamma,threshold)"
   ]
  },
  {
   "cell_type": "code",
   "execution_count": 20,
   "metadata": {},
   "outputs": [
    {
     "name": "stdout",
     "output_type": "stream",
     "text": [
      "Optimal values:\n",
      " tensor([0.5404, 0.4966, 0.4681, 0.4541, 0.5569, 0.0000, 0.3572, 0.0000, 0.5905,\n",
      "        0.6421, 0.6144, 0.0000, 0.0000, 0.7410, 0.8625, 0.0000])\n"
     ]
    }
   ],
   "source": [
    "print ('Optimal values:\\n',V_optimal)"
   ]
  },
  {
   "cell_type": "code",
   "execution_count": 7,
   "metadata": {},
   "outputs": [],
   "source": [
    "def extract_optimal_policy (env, V_optimal, gamma):\n",
    "    n_state = env.observation_space.n\n",
    "    n_action = env.action_space.n\n",
    "    optimal_policy = torch.zeros(n_state)\n",
    "       \n",
    "    for state in range (n_state):\n",
    "        v_actions = torch.zeros(n_action)\n",
    "        \n",
    "        for action in range (n_action):\n",
    "            \n",
    "            for trans_prob, new_state, reward, _ in env.env.P[state][action]:\n",
    "                v_actions[action] += trans_prob*(reward + gamma*V_optimal[new_state])\n",
    "                \n",
    "        optimal_policy[state] = torch.argmax(v_actions)\n",
    "    return optimal_policy"
   ]
  },
  {
   "cell_type": "code",
   "execution_count": 15,
   "metadata": {},
   "outputs": [],
   "source": [
    "optimal_policy = extract_optimal_policy(env,V_optimal,gamma)"
   ]
  },
  {
   "cell_type": "code",
   "execution_count": 21,
   "metadata": {},
   "outputs": [
    {
     "name": "stdout",
     "output_type": "stream",
     "text": [
      "Optimal policy:\n",
      " tensor([0., 3., 3., 3., 0., 0., 0., 0., 3., 1., 0., 0., 0., 2., 1., 0.])\n"
     ]
    }
   ],
   "source": [
    "print ('Optimal policy:\\n',optimal_policy)"
   ]
  },
  {
   "cell_type": "code",
   "execution_count": 17,
   "metadata": {},
   "outputs": [],
   "source": [
    "n_episode = 1000\n",
    "total_rewards=[]\n",
    "for episode in range(n_episode):\n",
    "    total_reward = run_episode(env, optimal_policy)\n",
    "    total_rewards.append(total_reward)"
   ]
  },
  {
   "cell_type": "code",
   "execution_count": 22,
   "metadata": {},
   "outputs": [
    {
     "name": "stdout",
     "output_type": "stream",
     "text": [
      "Average reward for optimal policy:\n",
      " 0.742\n"
     ]
    }
   ],
   "source": [
    "print ('Average reward for optimal policy:\\n',sum(total_rewards)/n_episode)"
   ]
  },
  {
   "cell_type": "code",
   "execution_count": 23,
   "metadata": {},
   "outputs": [],
   "source": [
    "gammas = [0, 0.2, 0.4, 0.6, 0.8, 0.99, 1]"
   ]
  },
  {
   "cell_type": "code",
   "execution_count": 24,
   "metadata": {},
   "outputs": [],
   "source": [
    "avg_reward_gamma = []\n",
    "for gamma in gammas:\n",
    "    V_optimal = value_iteration (env, gamma, threshold)\n",
    "    optimal_policy = extract_optimal_policy (env, V_optimal, gamma)\n",
    "    total_rewards = []\n",
    "    \n",
    "    for episode in range (n_episode):\n",
    "        total_reward = run_episode (env, optimal_policy)\n",
    "        total_rewards.append (total_reward)\n",
    "    avg_reward_gamma.append (sum(total_rewards) / n_episode)"
   ]
  },
  {
   "cell_type": "code",
   "execution_count": 26,
   "metadata": {},
   "outputs": [
    {
     "data": {
      "image/png": "[encoded data removed]",
      "text/plain": [
       "<Figure size 432x288 with 1 Axes>"
      ]
     },
     "metadata": {
      "needs_background": "light"
     },
     "output_type": "display_data"
    }
   ],
   "source": [
    "import matplotlib.pyplot as plt\n",
    "plt.plot (gammas, avg_reward_gamma)\n",
    "plt.title ('Success rate versus depreciation rate')\n",
    "plt.xlabel ('Depreciation rate')\n",
    "plt.ylabel ('Average success frequency')\n",
    "plt.show()"
   ]
  },
  {
   "cell_type": "code",
   "execution_count": null,
   "metadata": {},
   "outputs": [],
   "source": []
  }
 ],
 "metadata": {
  "kernelspec": {
   "display_name": "Python 3",
   "language": "python",
   "name": "python3"
  },
  "language_info": {
   "codemirror_mode": {
    "name": "ipython",
    "version": 3
   },
   "file_extension": ".py",
   "mimetype": "text/x-python",
   "name": "python",
   "nbconvert_exporter": "python",
   "pygments_lexer": "ipython3",
   "version": "3.8.5"
  }
 },
 "nbformat": 4,
 "nbformat_minor": 4
}
