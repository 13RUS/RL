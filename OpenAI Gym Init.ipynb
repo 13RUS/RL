{
 "cells": [
  {
   "cell_type": "code",
   "execution_count": 1,
   "metadata": {},
   "outputs": [
    {
     "name": "stderr",
     "output_type": "stream",
     "text": [
      "/Users/alekseyleshchankin/opt/anaconda3/lib/python3.8/site-packages/ale_py/gym/environment.py:11: DeprecationWarning: Importing atari-py roms won't be supported in future releases of ale-py.\n",
      "  import ale_py.roms as roms\n",
      "/Users/alekseyleshchankin/opt/anaconda3/lib/python3.8/site-packages/ale_py/roms/__init__.py:44: UserWarning: atari_py.atari_roms contains unsupported ROMs: /Users/alekseyleshchankin/opt/anaconda3/lib/python3.8/site-packages/atari_py/atari_roms/{road_runner.bin}\n",
      "  warnings.warn(\n"
     ]
    }
   ],
   "source": [
    "import gym\n",
    "import ale_py\n"
   ]
  },
  {
   "cell_type": "code",
   "execution_count": 3,
   "metadata": {},
   "outputs": [
    {
     "data": {
      "text/plain": [
       "Discrete(18)"
      ]
     },
     "execution_count": 3,
     "metadata": {},
     "output_type": "execute_result"
    }
   ],
   "source": [
    "#env = gym.make('SpaceInvaders-v0')\n",
    "#env = gym.make('Centipede-ram-v0')\n",
    "import gym\n",
    "env = gym.make(\"ALE/SpaceInvaders-v5\")\n",
    "env.action_space"
   ]
  },
  {
   "cell_type": "code",
   "execution_count": 4,
   "metadata": {},
   "outputs": [],
   "source": [
    "env = gym.make(\"LunarLander-v2\")"
   ]
  },
  {
   "cell_type": "code",
   "execution_count": 2,
   "metadata": {},
   "outputs": [],
   "source": [
    "env = gym.make(\"CartPole-v0\")\n",
    "video_dir = '/Users/alekseyleshchankin/Code/cartpole_video'\n",
    "#env = gym.wrappers.Monitor(env,video_dir)"
   ]
  },
  {
   "cell_type": "code",
   "execution_count": 3,
   "metadata": {},
   "outputs": [
    {
     "data": {
      "text/plain": [
       "array([-0.00798866, -0.04614431,  0.04370033,  0.04085759], dtype=float32)"
      ]
     },
     "execution_count": 3,
     "metadata": {},
     "output_type": "execute_result"
    }
   ],
   "source": [
    "env.reset()"
   ]
  },
  {
   "cell_type": "code",
   "execution_count": 7,
   "metadata": {},
   "outputs": [
    {
     "name": "stdout",
     "output_type": "stream",
     "text": [
      "[-0.03571678  0.16337852  0.01534805 -0.2886    ]\n",
      "[-0.0324492  -0.03195889  0.00957605  0.00888376]\n",
      "[-0.03308838 -0.22721685  0.00975373  0.3045726 ]\n",
      "[-0.03763272 -0.42247644  0.01584518  0.6003156 ]\n",
      "[-0.04608225 -0.22757971  0.02785149  0.3126655 ]\n",
      "[-0.05063384 -0.42308712  0.0341048   0.61400014]\n",
      "[-0.05909558 -0.22845793  0.04638481  0.332251  ]\n",
      "[-0.06366474 -0.42420837  0.05302983  0.63919306]\n",
      "[-0.07214891 -0.620028    0.06581369  0.9480931 ]\n",
      "[-0.08454947 -0.81597143  0.08477555  1.2607071 ]\n",
      "[-0.1008689 -1.0120692  0.1099897  1.5786916]\n",
      "[-0.12111028 -1.208316    0.14156353  1.9035548 ]\n",
      "[-0.1452766  -1.4046564   0.17963462  2.2366002 ]\n",
      "[-0.17336974 -1.2116345   0.22436662  2.004255  ]\n"
     ]
    }
   ],
   "source": [
    "is_done = False\n",
    "env.reset()\n",
    "\n",
    "while not is_done:\n",
    "    action = env.action_space.sample()\n",
    "    new_state, reward, is_done, info = env.step(action)\n",
    "    print (new_state)\n",
    "    env.render()\n",
    "\n",
    "env.close()"
   ]
  },
  {
   "cell_type": "code",
   "execution_count": 4,
   "metadata": {},
   "outputs": [
    {
     "data": {
      "text/plain": [
       "array([-0.04814643, -0.04286432,  0.00218993, -0.00221718], dtype=float32)"
      ]
     },
     "execution_count": 4,
     "metadata": {},
     "output_type": "execute_result"
    }
   ],
   "source": [
    "env = gym.make(\"CartPole-v0\")\n",
    "#video_dir = '/Users/alekseyleshchankin/Code/cartpole_video'\n",
    "#env = gym.wrappers.Monitor(env,video_dir)\n",
    "env.reset()"
   ]
  },
  {
   "cell_type": "code",
   "execution_count": 5,
   "metadata": {},
   "outputs": [
    {
     "name": "stdout",
     "output_type": "stream",
     "text": [
      "Эпизод 0 завершен, Вознаграждение: 18\n",
      "Эпизод 1 завершен, Вознаграждение: 19\n",
      "Эпизод 2 завершен, Вознаграждение: 13\n",
      "Эпизод 3 завершен, Вознаграждение: 24\n",
      "Эпизод 4 завершен, Вознаграждение: 37\n",
      "Эпизод 5 завершен, Вознаграждение: 17\n",
      "Эпизод 6 завершен, Вознаграждение: 10\n",
      "Эпизод 7 завершен, Вознаграждение: 22\n",
      "Эпизод 8 завершен, Вознаграждение: 14\n",
      "Эпизод 9 завершен, Вознаграждение: 18\n"
     ]
    }
   ],
   "source": [
    "for i in range (10):\n",
    "    done = False\n",
    "    game_rew = 0\n",
    "    \n",
    "    while not done:\n",
    "        action = env.action_space.sample()\n",
    "        new_obs, rew, done, info = env.step(action)\n",
    "        game_rew += rew\n",
    "        \n",
    "        if done:\n",
    "            print ('Эпизод %d завершен, Вознаграждение: %d' % (i, game_rew))\n",
    "            env.reset()\n",
    "env.close()"
   ]
  },
  {
   "cell_type": "code",
   "execution_count": 6,
   "metadata": {},
   "outputs": [
    {
     "name": "stdout",
     "output_type": "stream",
     "text": [
      "Box([-4.8000002e+00 -3.4028235e+38 -4.1887903e-01 -3.4028235e+38], [4.8000002e+00 3.4028235e+38 4.1887903e-01 3.4028235e+38], (4,), float32)\n"
     ]
    }
   ],
   "source": [
    "print (env.observation_space)"
   ]
  },
  {
   "cell_type": "code",
   "execution_count": 7,
   "metadata": {},
   "outputs": [
    {
     "name": "stdout",
     "output_type": "stream",
     "text": [
      "Discrete(2)\n"
     ]
    }
   ],
   "source": [
    "print (env.action_space)"
   ]
  }
 ],
 "metadata": {
  "kernelspec": {
   "display_name": "Python 3",
   "language": "python",
   "name": "python3"
  },
  "language_info": {
   "codemirror_mode": {
    "name": "ipython",
    "version": 3
   },
   "file_extension": ".py",
   "mimetype": "text/x-python",
   "name": "python",
   "nbconvert_exporter": "python",
   "pygments_lexer": "ipython3",
   "version": "3.8.5"
  }
 },
 "nbformat": 4,
 "nbformat_minor": 4
}
