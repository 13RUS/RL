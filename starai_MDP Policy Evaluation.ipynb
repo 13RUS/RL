{
 "cells": [
  {
   "cell_type": "markdown",
   "metadata": {},
   "source": [
    "## What we implement\n",
    "\n",
    "$$\n",
    "v(s) = R_s + \\gamma \\sum_{s' \\in S} P_{ss'}V(s')\n",
    "$$"
   ]
  },
  {
   "cell_type": "code",
   "execution_count": null,
   "metadata": {},
   "outputs": [],
   "source": [
    "\n",
    "\n",
    "!pip install -e git+https://github.com/star-ai/rl-environments.git#egg=rlenvs\n",
    "!pip install gym"
   ]
  },
  {
   "cell_type": "code",
   "execution_count": 31,
   "metadata": {},
   "outputs": [
    {
     "name": "stdout",
     "output_type": "stream",
     "text": [
      "Obtaining rlenvs from git+https://github.com/star-ai/rl-environments.git#egg=rlenvs\n",
      "  Cloning https://github.com/star-ai/rl-environments.git to ./src/rlenvs\n",
      "  Running command git clone -q https://github.com/star-ai/rl-environments.git /Users/alekseyleshchankin/Code/src/rlenvs\n",
      "  Resolved https://github.com/star-ai/rl-environments.git to commit 0ae7fca7685ff5694a94db97798b9f0259eb4c53\n",
      "Installing collected packages: rlenvs\n",
      "  Running setup.py develop for rlenvs\n",
      "Successfully installed rlenvs-0.1\n",
      "\u001b[33mWARNING: You are using pip version 21.2.4; however, version 21.3 is available.\n",
      "You should consider upgrading via the '/Users/alekseyleshchankin/opt/anaconda3/bin/python -m pip install --upgrade pip' command.\u001b[0m\n"
     ]
    }
   ],
   "source": [
    "!pip install -e git+https://github.com/star-ai/rl-environments.git#egg=rlenvs\n",
    "!pip install gym"
   ]
  },
  {
   "cell_type": "code",
   "execution_count": 1,
   "metadata": {},
   "outputs": [],
   "source": [
    "from IPython.core.debugger import set_trace\n",
    "import numpy as np\n",
    "import pprint\n",
    "\n",
    "# Import below can all of a sudden break\n",
    "from src.rlenvs.rlenvs.envs.gridworld import GridworldEnv"
   ]
  },
  {
   "cell_type": "code",
   "execution_count": 2,
   "metadata": {},
   "outputs": [],
   "source": [
    "pp = pprint.PrettyPrinter(indent=2)\n",
    "env = GridworldEnv()\n",
    "#print (env.P)"
   ]
  },
  {
   "cell_type": "code",
   "execution_count": 8,
   "metadata": {},
   "outputs": [],
   "source": [
    "#  Calculate state value given policy, state, and current state value function.\n",
    "def calculate_state_value (policy, state, env, V, discount_factor):\n",
    "    v = 0\n",
    "    for a, action_prob in enumerate (policy[state]):\n",
    "        for prob, next_state, reward, done in env.P[state][a]:\n",
    "            v += action_prob * prob * (reward + discount_factor * V[next_state])\n",
    "    return v"
   ]
  },
  {
   "cell_type": "code",
   "execution_count": 9,
   "metadata": {},
   "outputs": [],
   "source": [
    "# Run a full sweep over states.\n",
    "def run_full_sweep(policy, env, V, discount_factor):\n",
    "    new_V = np.zeros(env.nS)\n",
    "    delta = 0\n",
    "    \n",
    "    for s in range(env.nS):\n",
    "        v = calculate_state_value (policy, s, env, V, discount_factor)       \n",
    "        delta = max (delta, np.abs (v - V[s]))\n",
    "        new_V [s] = v\n",
    "    return new_V, delta"
   ]
  },
  {
   "cell_type": "code",
   "execution_count": 10,
   "metadata": {},
   "outputs": [],
   "source": [
    "# Evaluate a policy\n",
    "def policy_eval(policy, env, discount_factor=1.0, theta=0.00001):\n",
    "    V = np.zeros(env.nS)\n",
    "    \n",
    "    while True:\n",
    "        V, delta = run_full_sweep (policy, env, V, discount_factor)\n",
    "        if delta < theta:\n",
    "            break\n",
    "    return np.array(V)"
   ]
  },
  {
   "cell_type": "code",
   "execution_count": 11,
   "metadata": {},
   "outputs": [],
   "source": [
    "random_policy = np.ones([env.nS, env.nA]) / env.nA"
   ]
  },
  {
   "cell_type": "code",
   "execution_count": 12,
   "metadata": {},
   "outputs": [],
   "source": [
    "v = policy_eval(random_policy, env)"
   ]
  },
  {
   "cell_type": "code",
   "execution_count": 13,
   "metadata": {},
   "outputs": [
    {
     "name": "stdout",
     "output_type": "stream",
     "text": [
      "Value Function:\n",
      "array([[  0.        , -13.99989315, -19.99984167, -21.99982282],\n",
      "       [-13.99989315, -17.99986052, -19.99984273, -19.99984167],\n",
      "       [-19.99984167, -19.99984273, -17.99986052, -13.99989315],\n",
      "       [-21.99982282, -19.99984167, -13.99989315,   0.        ]])\n"
     ]
    }
   ],
   "source": [
    "pp = pprint.PrettyPrinter(indent=2)\n",
    "print(\"Value Function:\")\n",
    "pp.pprint(np.reshape(v, (4, 4)))"
   ]
  },
  {
   "cell_type": "code",
   "execution_count": 14,
   "metadata": {},
   "outputs": [
    {
     "name": "stdout",
     "output_type": "stream",
     "text": [
      "Expected\n",
      "array([[  0, -14, -20, -22],\n",
      "       [-14, -18, -20, -20],\n",
      "       [-20, -20, -18, -14],\n",
      "       [-22, -20, -14,   0]])\n",
      "\n",
      "Test passed\n"
     ]
    }
   ],
   "source": [
    "# Test: Make sure the evaluated policy is what we expected\n",
    "expected_v = np.array([0, -14, -20, -22, -14, -18, -20, -20, -20, -20, -18, -14,\n",
    "                       -22, -20, -14, 0])\n",
    "print('Expected')\n",
    "pp.pprint(np.reshape(expected_v, (4,4)))\n",
    "print()\n",
    "np.testing.assert_array_almost_equal(v, expected_v, decimal=2)\n",
    "print('Test passed')"
   ]
  },
  {
   "cell_type": "code",
   "execution_count": null,
   "metadata": {},
   "outputs": [],
   "source": [
    "# One function"
   ]
  },
  {
   "cell_type": "code",
   "execution_count": 46,
   "metadata": {},
   "outputs": [],
   "source": [
    "def policy_eval(policy, env, discount_factor=1.0, theta=0.00001):\n",
    "    # Start with a random (all 0) value function\n",
    "    V = np.zeros(env.nS)\n",
    "    while True:\n",
    "        delta = 0\n",
    "        # For each state, perform a \"full backup\"\n",
    "        for s in range(env.nS):\n",
    "            v = 0\n",
    "            # Look at the possible next actions\n",
    "            for a, action_prob in enumerate(policy[s]):\n",
    "                # For each action, look at the possible next states...\n",
    "                for  prob, next_state, reward, done in env.P[s][a]:\n",
    "                    # Calculate the expected value\n",
    "                    v += action_prob * prob * (reward + discount_factor * V[next_state])\n",
    "            # How much our value function changed (across any states)\n",
    "            delta = max(delta, np.abs(v - V[s]))\n",
    "            V[s] = v\n",
    "        # Stop evaluating once our value function change is below a threshold\n",
    "        if delta < theta:\n",
    "            break\n",
    "    return np.array(V)"
   ]
  },
  {
   "cell_type": "code",
   "execution_count": 47,
   "metadata": {},
   "outputs": [],
   "source": [
    "random_policy = np.ones([env.nS, env.nA]) / env.nA\n",
    "v = policy_eval(random_policy, env)"
   ]
  },
  {
   "cell_type": "code",
   "execution_count": 48,
   "metadata": {},
   "outputs": [
    {
     "name": "stdout",
     "output_type": "stream",
     "text": [
      "Value Function:\n",
      "[  0.         -13.99993529 -19.99990698 -21.99989761 -13.99993529\n",
      " -17.9999206  -19.99991379 -19.99991477 -19.99990698 -19.99991379\n",
      " -17.99992725 -13.99994569 -21.99989761 -19.99991477 -13.99994569\n",
      "   0.        ]\n",
      "\n",
      "Reshaped Grid Value Function:\n",
      "[[  0.         -13.99993529 -19.99990698 -21.99989761]\n",
      " [-13.99993529 -17.9999206  -19.99991379 -19.99991477]\n",
      " [-19.99990698 -19.99991379 -17.99992725 -13.99994569]\n",
      " [-21.99989761 -19.99991477 -13.99994569   0.        ]]\n",
      "\n"
     ]
    }
   ],
   "source": [
    "print(\"Value Function:\")\n",
    "print(v)\n",
    "print(\"\")\n",
    "\n",
    "print(\"Reshaped Grid Value Function:\")\n",
    "print(v.reshape(env.shape))\n",
    "print(\"\")"
   ]
  },
  {
   "cell_type": "code",
   "execution_count": null,
   "metadata": {},
   "outputs": [],
   "source": []
  }
 ],
 "metadata": {
  "kernelspec": {
   "display_name": "Python 3",
   "language": "python",
   "name": "python3"
  },
  "language_info": {
   "codemirror_mode": {
    "name": "ipython",
    "version": 3
   },
   "file_extension": ".py",
   "mimetype": "text/x-python",
   "name": "python",
   "nbconvert_exporter": "python",
   "pygments_lexer": "ipython3",
   "version": "3.8.5"
  }
 },
 "nbformat": 4,
 "nbformat_minor": 4
}
